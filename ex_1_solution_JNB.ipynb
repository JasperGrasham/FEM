{
 "cells": [
  {
   "cell_type": "code",
   "execution_count": 313,
   "metadata": {},
   "outputs": [],
   "source": [
    "import numpy as np\n",
    "import math \n",
    "import sympy as sym\n",
    "from sympy import *\n",
    "import matplotlib.pyplot as plt\n",
    "%matplotlib inline"
   ]
  },
  {
   "cell_type": "markdown",
   "metadata": {},
   "source": [
    "Writing a script to describe the nodes:"
   ]
  },
  {
   "cell_type": "code",
   "execution_count": 314,
   "metadata": {},
   "outputs": [],
   "source": [
    "nodes = 49\n",
    "number_dofs = nodes * 2\n",
    "dofs = np.zeros([number_dofs,1])\n",
    "force_matrix = np.zeros(number_dofs)\n",
    "\n",
    "def function(i):\n",
    "    if i <= 7:\n",
    "        x = 0 + 1*(i-1)\n",
    "        y = 0\n",
    "        return x, y\n",
    "\n",
    "    elif i <= 14:\n",
    "        x = 0 + 1*(i-8)\n",
    "        y = 0.5\n",
    "        return x, y\n",
    "\n",
    "    elif i <= 21:\n",
    "        x = 0 + 1 * (i - 15)\n",
    "        y = 1\n",
    "        return x, y\n",
    "\n",
    "    elif i <= 28:\n",
    "        x = 0 + 1 * (i - 22)\n",
    "        y = 1.5\n",
    "        return x, y\n",
    "\n",
    "    elif i <= 35:\n",
    "        x = 0 + 1 * (i - 29)\n",
    "        y = 2\n",
    "        return x, y\n",
    "\n",
    "    elif i <= 42:\n",
    "        x = 0 + 1 * (i - 36)\n",
    "        y = 2.5\n",
    "        return x, y\n",
    "\n",
    "    else:\n",
    "        x = 0 + 1 * (i - 43)\n",
    "        y = 3\n",
    "        return x, y"
   ]
  },
  {
   "cell_type": "markdown",
   "metadata": {},
   "source": [
    "Writing a script to denote the node coordinates for each element."
   ]
  },
  {
   "cell_type": "code",
   "execution_count": 315,
   "metadata": {},
   "outputs": [],
   "source": [
    "elements = 36\n",
    "element_connection_matrix = []\n",
    "\n",
    "for j in range(0, 6):\n",
    "    element_connections = [(1+j), (2+j), (9+j), (8+j)]\n",
    "    element_connection_matrix.append(element_connections)\n",
    "    \n",
    "for j in range(0, 6):    \n",
    "    element_connections2 = [(8+j), (9+j), (16+j), (15+j)]\n",
    "    element_connection_matrix.append(element_connections2)\n",
    "    \n",
    "for j in range(0, 6):    \n",
    "    element_connections3 = [(15+j), (16+j), (23+j), (22+j)]\n",
    "    element_connection_matrix.append(element_connections3)\n",
    "\n",
    "for j in range(0, 6):\n",
    "    element_connections4 = [(22+j), (23+j), (30+j), (29+j)]\n",
    "    element_connection_matrix.append(element_connections4)\n",
    "\n",
    "for j in range(0, 6):\n",
    "    element_connections5 = [(29+j), (30+j), (37+j), (36+j)]\n",
    "    element_connection_matrix.append(element_connections5)\n",
    "\n",
    "for j in range(0, 6):\n",
    "    element_connections6 = [(36+j), (37+j), (44+j), (43+j)]\n",
    "    element_connection_matrix.append(element_connections6)\n"
   ]
  },
  {
   "cell_type": "code",
   "execution_count": 316,
   "metadata": {},
   "outputs": [
    {
     "data": {
      "image/png": "[encoded data removed]",
      "text/plain": [
       "<Figure size 360x360 with 1 Axes>"
      ]
     },
     "metadata": {
      "needs_background": "light"
     },
     "output_type": "display_data"
    }
   ],
   "source": [
    "node_locations = [function(i) for i in range(1, int(nodes+1))]\n",
    "\n",
    "def coords_x(i):\n",
    "    x = node_locations[i][0]\n",
    "    return x\n",
    "\n",
    "def coords_y(i):\n",
    "    y = node_locations[i][1]\n",
    "    return y\n",
    "\n",
    "x = [coords_x(i) for i in range(nodes)]\n",
    "y = [coords_y(i) for i in range(nodes)]\n",
    "\n",
    "\n",
    "def image_view(x, y):\n",
    "    fig, ax = plt.subplots(figsize=(5,5))\n",
    "\n",
    "    ax.scatter(x, y, color='black', s=1)\n",
    "\n",
    "    ax.legend(['Original Node Loctions'], loc='upper right')\n",
    "\n",
    "    ax.set_xlabel('X Label')\n",
    "    ax.set_ylabel('Y Label')\n",
    "\n",
    "    plt.show(block=True)\n",
    "    plt.show()\n",
    "\n",
    "image_view(x, y)"
   ]
  },
  {
   "cell_type": "markdown",
   "metadata": {},
   "source": [
    "Applying the known parameters to E and v to obtain the D matrix. Note - this is also $E_{ijkl}$"
   ]
  },
  {
   "cell_type": "code",
   "execution_count": 317,
   "metadata": {},
   "outputs": [],
   "source": [
    "E = 204000 # N/mm^2\n",
    "v = 0.29\n",
    "\n",
    "def D_matrix(E, v):\n",
    "    value_d_matrix = E/(1-v**2) * np.array([[1, v, 0], [v, 1, 0], [0, 0, (1-v)/2]])\n",
    "    return value_d_matrix\n",
    "\n",
    "E_ijkl = D_matrix(E, v)"
   ]
  },
  {
   "cell_type": "markdown",
   "metadata": {},
   "source": [
    "Derivative functions made using sympy"
   ]
  },
  {
   "cell_type": "code",
   "execution_count": 318,
   "metadata": {},
   "outputs": [],
   "source": [
    "def differentiation_wrtx(val):\n",
    "    x = sym.Symbol('x')\n",
    "    derivative = sym.diff(val)\n",
    "    return derivative\n",
    "\n",
    "def differentiation_wrty(val):\n",
    "    y = sym.Symbol('y')\n",
    "    derivative = sym.diff(val)\n",
    "    return derivative\n",
    "\n",
    "def differentiation_wrtxi(val):\n",
    "    xi = sym.Symbol('xi')\n",
    "    derivative = sym.diff(val)\n",
    "    return derivative\n",
    "\n",
    "def differentiation_wrteta(val):\n",
    "    eta = sym.Symbol('eta')\n",
    "    derivative = sym.diff(val)\n",
    "    return derivative"
   ]
  },
  {
   "cell_type": "code",
   "execution_count": 319,
   "metadata": {},
   "outputs": [],
   "source": [
    "def individual_phi_matrix(xi, eta):\n",
    "    phi_1 = 1/4*(1-xi)*(1-eta)\n",
    "    phi_2 = 1/4*(1+xi)*(1-eta)\n",
    "    phi_3 = 1/4*(1+xi)*(1+eta)\n",
    "    phi_4 = 1/4*(1-xi)*(1+eta)\n",
    "    phi_matrix = [phi_1, phi_2, phi_3, phi_4]\n",
    "    return phi_matrix"
   ]
  },
  {
   "cell_type": "markdown",
   "metadata": {},
   "source": [
    "The next block of code allows for derivations of the interpolations with respect to $\\xi$."
   ]
  },
  {
   "cell_type": "code",
   "execution_count": 320,
   "metadata": {},
   "outputs": [],
   "source": [
    "def phi_matrix_comma_i(eta):\n",
    "    xi = sym.Symbol('xi')\n",
    "    phi_1_i = diff(1/4*(1-eta)- 1/4*(1-eta)*xi)\n",
    "    phi_2_i = diff(1/4*(1-eta)+ 1/4*(1-eta)*xi)\n",
    "    phi_3_i = diff(1/4*(1+eta)+ 1/4*(1+eta)*xi)\n",
    "    phi_4_i = diff(1/4*(1+eta)- 1/4*(1+eta)*xi)\n",
    "    phi_matrix_comma_i = [phi_1_i, phi_2_i, phi_3_i, phi_4_i]\n",
    "    return phi_matrix_comma_i"
   ]
  },
  {
   "cell_type": "markdown",
   "metadata": {},
   "source": [
    "The next block of code allows for derivations of the interpolations with respect to $\\eta$."
   ]
  },
  {
   "cell_type": "code",
   "execution_count": 321,
   "metadata": {
    "scrolled": true
   },
   "outputs": [],
   "source": [
    "def phi_matrix_comma_j(xi):\n",
    "    eta = sym.Symbol('eta')\n",
    "    phi_1_j = diff(1/4*(1-xi)- 1/4*(1-xi)*eta)\n",
    "    phi_2_j = diff(1/4*(1+xi)- 1/4*(1+xi)*eta)\n",
    "    phi_3_j = diff(1/4*(1+xi)+ 1/4*(1+xi)*eta)\n",
    "    phi_4_j = diff(1/4*(1-xi)+ 1/4*(1-xi)*eta)\n",
    "    phi_matrix_comma_j = [phi_1_j, phi_2_j, phi_3_j, phi_4_j]\n",
    "    return phi_matrix_comma_j"
   ]
  },
  {
   "cell_type": "markdown",
   "metadata": {},
   "source": [
    "Using 1x1 Gaussian integration of the elements, $\\xi$ and $\\eta$ have a value of 0. However this must be applied manually as a global allocation of values to $\\xi$ and $\\eta$ will disrupt the differential equations."
   ]
  },
  {
   "cell_type": "markdown",
   "metadata": {},
   "source": [
    "The following block of code allowcates the rest of the strain energy equation to the relevant matrix spaces. IT is based on one element with the arbitary values allocated earlier."
   ]
  },
  {
   "cell_type": "code",
   "execution_count": 322,
   "metadata": {},
   "outputs": [],
   "source": [
    "class strain_energy:\n",
    "    \n",
    "    individual_k = []\n",
    "        \n",
    "    for i in range(0, len(element_connection_matrix)):\n",
    "    \n",
    "        element = element_connection_matrix[i]\n",
    " \n",
    "        x_1 = element[0]\n",
    "        x_2 = element[1]\n",
    "        x_3 = element[2]\n",
    "        x_4 = element[3]\n",
    "        \n",
    "        y_1 = element[0]\n",
    "        y_2 = element[1]\n",
    "        y_3 = element[2]\n",
    "        y_4 = element[3]\n",
    "\n",
    "        element_x_coords = [x[x_1-1], x[x_2-1], x[x_3-1], x[x_4-1]]\n",
    "        element_y_coords = [y[y_1-1], y[y_2-1], y[y_3-1], y[y_4-1]]\n",
    "  \n",
    "        J_11 = phi_matrix_comma_i(1)[0] * element_x_coords[0]  + phi_matrix_comma_i(1)[1] * element_x_coords[1] + phi_matrix_comma_i(1)[2] * element_x_coords[2] + phi_matrix_comma_i(1)[3] * element_x_coords[3] \n",
    "        J_12 = phi_matrix_comma_i(1)[0] * element_y_coords[0]  + phi_matrix_comma_i(1)[1] * element_y_coords[1] + phi_matrix_comma_i(1)[2] * element_y_coords[2] + phi_matrix_comma_i(1)[3] * element_y_coords[3] \n",
    "        J_21 = phi_matrix_comma_j(1)[0] * element_x_coords[0]  + phi_matrix_comma_j(1)[1] * element_x_coords[1] + phi_matrix_comma_j(1)[2] * element_x_coords[2] + phi_matrix_comma_j(1)[3] * element_x_coords[3] \n",
    "        J_22 = phi_matrix_comma_j(1)[0] * element_y_coords[0]  + phi_matrix_comma_j(1)[1] * element_y_coords[1] + phi_matrix_comma_j(1)[2] * element_y_coords[2] + phi_matrix_comma_j(1)[3] * element_y_coords[3] \n",
    "\n",
    "        J = np.array([[J_11, J_12], [J_21, J_22]])\n",
    "        det_J = J[0][0]*J[1][1] - J[0][1]*J[1][0]\n",
    "        J_minus_1 = np.array([[J_22, J_21], [J_12, J_11]]) * 1/det_J\n",
    "\n",
    "        d_N_1_d = np.matmul(J_minus_1, [phi_matrix_comma_i(0)[0], phi_matrix_comma_j(0)[0]])\n",
    "        d_N_2_d = np.matmul(J_minus_1, [phi_matrix_comma_i(0)[1], phi_matrix_comma_j(0)[1]])\n",
    "        d_N_3_d = np.matmul(J_minus_1, [phi_matrix_comma_i(0)[2], phi_matrix_comma_j(0)[2]])\n",
    "        d_N_4_d = np.matmul(J_minus_1, [phi_matrix_comma_i(0)[3], phi_matrix_comma_j(0)[3]])\n",
    "\n",
    "\n",
    "        B_matrix = np.array([[d_N_1_d[0], 0, d_N_2_d[0], 0, d_N_3_d[0], 0, d_N_4_d[0], 0], [0, d_N_1_d[1], 0, d_N_2_d[1], 0, d_N_3_d[1], 0, d_N_4_d[1]], [d_N_1_d[1], d_N_1_d[0], d_N_2_d[1], d_N_2_d[0], d_N_3_d[1], d_N_3_d[0], d_N_4_d[1], d_N_4_d[0]]])\n",
    "\n",
    "        B_T = np.transpose(B_matrix)\n",
    "\n",
    "        # Carrying out the integral equations with the summation varation:\n",
    "        H_i = 2\n",
    "        H_j = 2\n",
    "        I = H_i * H_j * det_J\n",
    "\n",
    "        k = I * np.matmul(B_T, np.matmul(E_ijkl,B_matrix))\n",
    "\n",
    "        individual_k.append(k)"
   ]
  },
  {
   "cell_type": "markdown",
   "metadata": {},
   "source": [
    "There is a total of 36 elements so also 36 values of local matrix, k. Each of these must be split into the appropriate global position."
   ]
  },
  {
   "cell_type": "code",
   "execution_count": 323,
   "metadata": {},
   "outputs": [],
   "source": [
    "Global_matrix = np.zeros([number_dofs, number_dofs])\n",
    "\n",
    "for i in range(0, len(strain_energy.individual_k)):\n",
    "    k_e = strain_energy.individual_k[i]\n",
    "    element_nodes = element_connection_matrix[i]\n",
    "\n",
    "    element_node_1 = element_nodes[0]\n",
    "    positioning_node_1_global = [int((element_node_1*2)-1), int(element_node_1*2)]\n",
    "\n",
    "    element_node_2 = element_nodes[1]\n",
    "    positioning_node_2_global = [int((element_node_2*2)-1), int(element_node_2*2)]\n",
    "\n",
    "    element_node_3 = element_nodes[2]\n",
    "    positioning_node_3_global = [int((element_node_3*2)-1), int(element_node_3*2)]\n",
    "\n",
    "    element_node_4 = element_nodes[3]\n",
    "    positioning_node_4_global = [int((element_node_4*2)-1), int(element_node_4*2)]\n",
    "\n",
    "    relevant_dofs = [positioning_node_1_global, positioning_node_2_global, positioning_node_3_global, positioning_node_4_global]\n",
    "    dofs_vec = np.concatenate(relevant_dofs).ravel()\n",
    "\n",
    "    for m in range(0, len(k_e[0])):\n",
    "        col_val = dofs_vec[m]\n",
    "        \n",
    "        for j in range(0, len(k_e[0])):\n",
    "            k_e_m_j = k_e[m][j]\n",
    "            row_val = dofs_vec[j]\n",
    "            Global_matrix[col_val-1][row_val-1] += k_e_m_j"
   ]
  },
  {
   "cell_type": "code",
   "execution_count": 324,
   "metadata": {},
   "outputs": [],
   "source": [
    "class load_conditions:\n",
    "    \n",
    "    forces_applied_to = [7, 28, 42, 56, 70, 82, 98]\n",
    "    forces = [7, 6.5, 6, 5.5, 5, 4.5, 4.0]\n",
    "\n",
    "    for i in range(0, len(forces)):\n",
    "        force_matrix[forces_applied_to[i]-1] = forces[i]\n",
    "        \n",
    "    b_i = force_matrix"
   ]
  },
  {
   "cell_type": "code",
   "execution_count": 325,
   "metadata": {},
   "outputs": [],
   "source": [
    "inverse_k = np.linalg.pinv(Global_matrix)"
   ]
  },
  {
   "cell_type": "markdown",
   "metadata": {},
   "source": [
    "The following block of code applies the forces to the known stiffness matrix in order to determine displacement values at the known loading locations."
   ]
  },
  {
   "cell_type": "code",
   "execution_count": 326,
   "metadata": {},
   "outputs": [],
   "source": [
    "for i in range(0, len(load_conditions.forces_applied_to)):\n",
    "    val = load_conditions.forces_applied_to[i]\n",
    "    dofs[val-1] += np.matmul(inverse_k[val-1], load_conditions.b_i)"
   ]
  },
  {
   "cell_type": "code",
   "execution_count": 327,
   "metadata": {},
   "outputs": [],
   "source": [
    "final_forces = np.matmul(Global_matrix, dofs)\n",
    "final_dofs = np.matmul(inverse_k, final_forces)"
   ]
  },
  {
   "cell_type": "code",
   "execution_count": 328,
   "metadata": {},
   "outputs": [],
   "source": [
    "x_deflec = []\n",
    "y_deflec = []\n",
    "\n",
    "for i in range(0, len(dofs), 2):\n",
    "    x_dofs = final_dofs[i]\n",
    "    y_dofs = final_dofs[i+1]\n",
    "    x_deflec.append(x_dofs)\n",
    "    y_deflec.append(y_dofs)"
   ]
  },
  {
   "cell_type": "code",
   "execution_count": 329,
   "metadata": {},
   "outputs": [],
   "source": [
    "final_x_array = [x[i] + x_deflec[i] for i in range(len(x))]\n",
    "final_x = np.concatenate(final_x_array).ravel()\n",
    "final_y_array = [y[i] + y_deflec[i] for i in range(len(y))]\n",
    "final_y = np.concatenate(final_y_array).ravel()"
   ]
  },
  {
   "cell_type": "code",
   "execution_count": 330,
   "metadata": {},
   "outputs": [
    {
     "data": {
      "image/png": "[encoded data removed]",
      "text/plain": [
       "<Figure size 360x360 with 1 Axes>"
      ]
     },
     "metadata": {
      "needs_background": "light"
     },
     "output_type": "display_data"
    }
   ],
   "source": [
    "def image_view(x, y, final_x, final_y):\n",
    "    fig, ax = plt.subplots(figsize=(5,5))\n",
    "\n",
    "    ax.scatter(x, y, color='black', s=1)\n",
    "    ax.scatter(final_x, final_y, color='red', s=1)\n",
    "\n",
    "    ax.legend(['Original Node Loctions', 'Deflected Node Loctions'], loc='upper right')\n",
    "\n",
    "    ax.set_xlabel('X Label')\n",
    "    ax.set_ylabel('Y Label')\n",
    "\n",
    "    plt.show(block=True)\n",
    "    plt.show()\n",
    "\n",
    "image_view(x, y, final_x, final_y)"
   ]
  },
  {
   "cell_type": "code",
   "execution_count": 331,
   "metadata": {},
   "outputs": [
    {
     "data": {
      "image/png": "[encoded data removed]",
      "text/plain": [
       "<Figure size 360x360 with 1 Axes>"
      ]
     },
     "metadata": {
      "needs_background": "light"
     },
     "output_type": "display_data"
    }
   ],
   "source": [
    "x_difference = x - final_x\n",
    "y_axis = x_difference\n",
    "x_axis = [[i] for i in range(0,len(x_difference))]\n",
    "\n",
    "def image_view(x_axis, y_axis):\n",
    "    fig, ax = plt.subplots(figsize=(5,5))\n",
    "\n",
    "    ax.plot(x_axis, y_axis, color='black')\n",
    "\n",
    "    ax.legend(['Change in x_coord'], loc='upper right')\n",
    "\n",
    "    ax.set_xlabel('Node')\n",
    "    ax.set_ylabel('Change in x coordinate discplacement')\n",
    "\n",
    "    plt.show(block=True)\n",
    "    plt.show()\n",
    "\n",
    "image_view(x_axis, y_axis)"
   ]
  }
 ],
 "metadata": {
  "kernelspec": {
   "display_name": "Python 3",
   "language": "python",
   "name": "python3"
  },
  "language_info": {
   "codemirror_mode": {
    "name": "ipython",
    "version": 3
   },
   "file_extension": ".py",
   "mimetype": "text/x-python",
   "name": "python",
   "nbconvert_exporter": "python",
   "pygments_lexer": "ipython3",
   "version": "3.8.3"
  }
 },
 "nbformat": 4,
 "nbformat_minor": 4
}
